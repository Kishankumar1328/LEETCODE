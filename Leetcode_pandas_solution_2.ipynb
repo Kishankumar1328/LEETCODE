{
  "nbformat": 4,
  "nbformat_minor": 0,
  "metadata": {
    "colab": {
      "provenance": [],
      "authorship_tag": "ABX9TyNHuRqN3FcROmiu6Voi98O8",
      "include_colab_link": true
    },
    "kernelspec": {
      "name": "python3",
      "display_name": "Python 3"
    },
    "language_info": {
      "name": "python"
    }
  },
  "cells": [
    {
      "cell_type": "markdown",
      "metadata": {
        "id": "view-in-github",
        "colab_type": "text"
      },
      "source": [
        "<a href=\"https://colab.research.google.com/github/Kishankumar1328/LEETCODE/blob/main/Leetcode_pandas_solution_2.ipynb\" target=\"_parent\"><img src=\"https://colab.research.google.com/assets/colab-badge.svg\" alt=\"Open In Colab\"/></a>"
      ]
    },
    {
      "cell_type": "code",
      "execution_count": 1,
      "metadata": {
        "id": "8ADNl2CpSlFT"
      },
      "outputs": [],
      "source": [
        "import pandas as pd\n",
        "\n",
        "def meltTable(report: pd.DataFrame) -> pd.DataFrame:\n",
        "    return pd.melt(report,id_vars=['product'],var_name='quarter',value_name=\"sales\")"
      ]
    },
    {
      "cell_type": "code",
      "source": [
        "import pandas as pd\n",
        "\n",
        "def pivotTable(weather: pd.DataFrame) -> pd.DataFrame:\n",
        "    return weather.pivot_table(index=\"month\",columns='city',values='temperature',aggfunc='max')"
      ],
      "metadata": {
        "id": "mVNR3lsrSq1b"
      },
      "execution_count": 2,
      "outputs": []
    },
    {
      "cell_type": "code",
      "source": [
        "import pandas as pd\n",
        "\n",
        "def concatenateTables(df1: pd.DataFrame, df2: pd.DataFrame) -> pd.DataFrame:\n",
        "\n",
        "    return pd.concat([df1,df2])"
      ],
      "metadata": {
        "id": "Zd-DSIRBStbC"
      },
      "execution_count": 3,
      "outputs": []
    },
    {
      "cell_type": "code",
      "source": [
        "import pandas as pd\n",
        "\n",
        "def fillMissingValues(products: pd.DataFrame) -> pd.DataFrame:\n",
        "    df=pd.DataFrame(products,columns=[\"name\",\"quantity\",\"price\"])\n",
        "    df[\"quantity\"]=df[\"quantity\"].fillna(0)\n",
        "    return df\n",
        ""
      ],
      "metadata": {
        "id": "8BhOFzfVSzLy"
      },
      "execution_count": 4,
      "outputs": []
    },
    {
      "cell_type": "code",
      "source": [
        "import pandas as pd\n",
        "\n",
        "def changeDatatype(students: pd.DataFrame) -> pd.DataFrame:\n",
        "    df=pd.DataFrame(students,columns=[\"student_id\",\"name\",\"age\",\"grade\"])\n",
        "    df[\"grade\"]=df['grade'].astype(int)\n",
        "    return df"
      ],
      "metadata": {
        "id": "jGju3qLmS2aS"
      },
      "execution_count": 5,
      "outputs": []
    },
    {
      "cell_type": "code",
      "source": [
        "import pandas as pd\n",
        "\n",
        "def renameColumns(students: pd.DataFrame) -> pd.DataFrame:\n",
        "    df=pd.DataFrame(students,columns=[\"id\",\"first\",\"last\",\"age\"])\n",
        "    df.rename(columns={\"id\":\"student_id\",\"first\":\"first_name\",\"last\":\"last_name\",\"age\":\"age_in_years\"},inplace=True)\n",
        "    return df\n",
        ""
      ],
      "metadata": {
        "id": "eDNLz-X4S6OF"
      },
      "execution_count": 6,
      "outputs": []
    }
  ]
}