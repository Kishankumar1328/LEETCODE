{
  "nbformat": 4,
  "nbformat_minor": 0,
  "metadata": {
    "colab": {
      "provenance": [],
      "authorship_tag": "ABX9TyPBVo1sO7Q1gjl/3/TmcomQ",
      "include_colab_link": true
    },
    "kernelspec": {
      "name": "python3",
      "display_name": "Python 3"
    },
    "language_info": {
      "name": "python"
    }
  },
  "cells": [
    {
      "cell_type": "markdown",
      "metadata": {
        "id": "view-in-github",
        "colab_type": "text"
      },
      "source": [
        "<a href=\"https://colab.research.google.com/github/Kishankumar1328/LEETCODE/blob/main/LEETCODE_solution_pandas.ipynb\" target=\"_parent\"><img src=\"https://colab.research.google.com/assets/colab-badge.svg\" alt=\"Open In Colab\"/></a>"
      ]
    },
    {
      "cell_type": "code",
      "execution_count": null,
      "metadata": {
        "id": "S7ZNw-dOHjHi"
      },
      "outputs": [],
      "source": [
        "import pandas as pd\n",
        "from typing import List\n",
        "\n",
        "\n",
        "def createDataframe(student_data: List[List[int]]) -> pd.DataFrame:\n",
        "    std=pd.DataFrame(student_data,columns=[\"student_id\",\"age\"])\n",
        "    return std\n"
      ]
    },
    {
      "cell_type": "code",
      "source": [
        "import pandas as pd\n",
        "\n",
        "def selectFirstRows(employees: pd.DataFrame) -> pd.DataFrame:\n",
        "    kk=pd.DataFrame(employees,columns=[\"employee_id\",\"name\",\"department\",\"salary\"]).head(3)\n",
        "\n",
        "    return kk\n"
      ],
      "metadata": {
        "id": "BZfj-YWBLbdg"
      },
      "execution_count": null,
      "outputs": []
    },
    {
      "cell_type": "code",
      "source": [
        "import pandas as pd\n",
        "\n",
        "def getDataframeSize(players: pd.DataFrame) -> List[int]:\n",
        "\n",
        "\n",
        "    return[players.shape[0],players.shape[1]]\n",
        "\n"
      ],
      "metadata": {
        "id": "USxPw5rtLcOq"
      },
      "execution_count": null,
      "outputs": []
    },
    {
      "cell_type": "code",
      "source": [
        "import pandas as pd\n",
        "\n",
        "def selectData(students: pd.DataFrame) -> pd.DataFrame:\n",
        "    kkk=students.loc[students['student_id']==101,['name',\"age\"]]\n",
        "\n",
        "    return kkk\n"
      ],
      "metadata": {
        "id": "MheoDV1uMuuR"
      },
      "execution_count": null,
      "outputs": []
    },
    {
      "cell_type": "code",
      "source": [
        "import pandas as pd\n",
        "\n",
        "def createBonusColumn(employees: pd.DataFrame) -> pd.DataFrame:\n",
        "    employees['bonus']=employees['salary']*2\n",
        "    emp=pd.DataFrame(employees,columns=['name','salary','bonus'])\n",
        "    return emp\n"
      ],
      "metadata": {
        "id": "uxZyXnILOh9A"
      },
      "execution_count": null,
      "outputs": []
    },
    {
      "cell_type": "code",
      "source": [
        "import pandas as pd\n",
        "\n",
        "def dropDuplicateEmails(customers: pd.DataFrame) -> pd.DataFrame:\n",
        "    cus=pd.DataFrame(customers,columns=['customer_id',\"name\",'email'])\n",
        "    cus=cus.drop_duplicates(subset='email')\n",
        "    return cus\n"
      ],
      "metadata": {
        "id": "5V_Rl0EYP7Mp"
      },
      "execution_count": null,
      "outputs": []
    }
  ]
}